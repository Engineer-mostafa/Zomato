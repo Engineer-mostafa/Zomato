{
 "cells": [
  {
   "cell_type": "code",
   "execution_count": 27,
   "metadata": {},
   "outputs": [],
   "source": [
    "class MultinomialNB:\n",
    "    def __init__(self):\n",
    "        self.classes = None\n",
    "        self.class_prior = None\n",
    "        self.feature_counts = None\n",
    "        self.n_features = None\n",
    "        self.n_samples = None\n",
    "        \n",
    "    def fit(self, X, y):\n",
    "        self.classes = np.unique(y)\n",
    "        n_classes = len(self.classes)\n",
    "        n_samples, n_features = X.shape\n",
    "        \n",
    "        self.class_prior = np.zeros(n_classes)\n",
    "        self.feature_counts = np.zeros((n_classes, n_features))\n",
    "        \n",
    "        # count number of samples in each class\n",
    "        for i in range(n_classes):\n",
    "            self.class_prior[i] = np.sum(y == self.classes[i]) / n_samples\n",
    "            \n",
    "        # count number of occurrences of each feature in each class\n",
    "        for i in range(n_classes):\n",
    "            X_class = X[y == self.classes[i]]\n",
    "            self.feature_counts[i] = np.sum(X_class, axis=0)\n",
    "        print(self.feature_counts)\n",
    "\n",
    "        self.n_features = n_features\n",
    "        self.n_samples = n_samples\n",
    "        \n",
    "    def predict(self, X):\n",
    "        likelihood = np.zeros((X.shape[0], len(self.classes)))\n",
    "        \n",
    "        # calculate log likelihood for each sample and class\n",
    "        for i in range(len(self.classes)):\n",
    "            log_likelihood = np.sum(X * np.log(self.feature_counts[i] / np.sum(self.feature_counts[i])), axis=1)\n",
    "            likelihood[:, i] = log_likelihood + np.log(self.class_prior[i])\n",
    "            \n",
    "        # return class with highest likelihood for each sample\n",
    "        return self.classes[np.argmax(likelihood, axis=1)]\n"
   ]
  },
  {
   "cell_type": "code",
   "execution_count": 28,
   "metadata": {},
   "outputs": [
    {
     "name": "stdout",
     "output_type": "stream",
     "text": [
      "[[ 8.  7.  8. 10.]\n",
      " [ 4.  5.  2.  3.]]\n"
     ]
    }
   ],
   "source": [
    "# Sample data\n",
    "X = np.array([ [1, 2, 3, 4],  # 0\n",
    "               [3, 4, 1, 1],  # 1\n",
    "               [1, 1, 1, 2],  # 1\n",
    "               [4, 1, 1, 3],  # 0\n",
    "               [3, 4, 4, 3]]) # 0\n",
    "\n",
    "y = np.array([0, 1, 1, 0, 0])\n",
    "\n",
    "# Initialize and fit the model\n",
    "model = MultinomialNB()\n",
    "model.fit(X, y)\n",
    "\n",
    "\n"
   ]
  },
  {
   "cell_type": "code",
   "execution_count": 21,
   "metadata": {},
   "outputs": [
    {
     "name": "stdout",
     "output_type": "stream",
     "text": [
      "[0, 1]\n"
     ]
    }
   ],
   "source": [
    "# Predict classes for new data\n",
    "X_new = np.array([[3, 3, 2, 1], [3, 4, 3, 3]])\n",
    "y_pred = model.predict(X_new)\n",
    "print(y_pred)"
   ]
  },
  {
   "cell_type": "code",
   "execution_count": null,
   "metadata": {},
   "outputs": [],
   "source": []
  }
 ],
 "metadata": {
  "kernelspec": {
   "display_name": "base",
   "language": "python",
   "name": "python3"
  },
  "language_info": {
   "codemirror_mode": {
    "name": "ipython",
    "version": 3
   },
   "file_extension": ".py",
   "mimetype": "text/x-python",
   "name": "python",
   "nbconvert_exporter": "python",
   "pygments_lexer": "ipython3",
   "version": "3.9.13"
  },
  "orig_nbformat": 4
 },
 "nbformat": 4,
 "nbformat_minor": 2
}
